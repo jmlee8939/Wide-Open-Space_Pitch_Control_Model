{
 "cells": [
  {
   "cell_type": "code",
   "execution_count": 1,
   "metadata": {},
   "outputs": [],
   "source": [
    "import numpy as np\n",
    "import pandas as pd\n",
    "import csv\n",
    "import matplotlib.pyplot as plt\n",
    "from scipy.stats import multivariate_normal\n",
    "import seaborn as sns\n",
    "from scipy.interpolate import Rbf\n",
    "from src.plot_utils import draw_pitch\n",
    "from matplotlib import animation\n"
   ]
  },
  {
   "attachments": {},
   "cell_type": "markdown",
   "metadata": {},
   "source": [
    "#### Merging EPTS data and event data"
   ]
  },
  {
   "attachments": {},
   "cell_type": "markdown",
   "metadata": {},
   "source": [
    "- Match 1"
   ]
  },
  {
   "cell_type": "code",
   "execution_count": 2,
   "metadata": {},
   "outputs": [],
   "source": [
    "df = pd.read_json('./Data/sample_match_1_with_v.json')\n",
    "e_df = pd.read_json('./Data/sample_Game_1_events.json')"
   ]
  },
  {
   "cell_type": "code",
   "execution_count": 3,
   "metadata": {},
   "outputs": [
    {
     "data": {
      "text/html": [
       "<div>\n",
       "<style scoped>\n",
       "    .dataframe tbody tr th:only-of-type {\n",
       "        vertical-align: middle;\n",
       "    }\n",
       "\n",
       "    .dataframe tbody tr th {\n",
       "        vertical-align: top;\n",
       "    }\n",
       "\n",
       "    .dataframe thead th {\n",
       "        text-align: right;\n",
       "    }\n",
       "</style>\n",
       "<table border=\"1\" class=\"dataframe\">\n",
       "  <thead>\n",
       "    <tr style=\"text-align: right;\">\n",
       "      <th></th>\n",
       "      <th>Team</th>\n",
       "      <th>Type</th>\n",
       "      <th>Subtype</th>\n",
       "      <th>Period</th>\n",
       "      <th>Start Frame</th>\n",
       "      <th>Start Time [s]</th>\n",
       "      <th>End Frame</th>\n",
       "      <th>End Time [s]</th>\n",
       "      <th>From</th>\n",
       "      <th>To</th>\n",
       "      <th>Start X</th>\n",
       "      <th>Start Y</th>\n",
       "      <th>End X</th>\n",
       "      <th>End Y</th>\n",
       "    </tr>\n",
       "  </thead>\n",
       "  <tbody>\n",
       "    <tr>\n",
       "      <th>0</th>\n",
       "      <td>Away</td>\n",
       "      <td>SET PIECE</td>\n",
       "      <td>KICK OFF</td>\n",
       "      <td>1</td>\n",
       "      <td>1</td>\n",
       "      <td>0.04</td>\n",
       "      <td>0</td>\n",
       "      <td>0.00</td>\n",
       "      <td>Player19</td>\n",
       "      <td>None</td>\n",
       "      <td>NaN</td>\n",
       "      <td>NaN</td>\n",
       "      <td>NaN</td>\n",
       "      <td>NaN</td>\n",
       "    </tr>\n",
       "    <tr>\n",
       "      <th>1</th>\n",
       "      <td>Away</td>\n",
       "      <td>PASS</td>\n",
       "      <td>None</td>\n",
       "      <td>1</td>\n",
       "      <td>1</td>\n",
       "      <td>0.04</td>\n",
       "      <td>3</td>\n",
       "      <td>0.12</td>\n",
       "      <td>Player19</td>\n",
       "      <td>Player21</td>\n",
       "      <td>0.45</td>\n",
       "      <td>0.39</td>\n",
       "      <td>0.55</td>\n",
       "      <td>0.43</td>\n",
       "    </tr>\n",
       "    <tr>\n",
       "      <th>2</th>\n",
       "      <td>Away</td>\n",
       "      <td>PASS</td>\n",
       "      <td>None</td>\n",
       "      <td>1</td>\n",
       "      <td>3</td>\n",
       "      <td>0.12</td>\n",
       "      <td>17</td>\n",
       "      <td>0.68</td>\n",
       "      <td>Player21</td>\n",
       "      <td>Player15</td>\n",
       "      <td>0.55</td>\n",
       "      <td>0.43</td>\n",
       "      <td>0.58</td>\n",
       "      <td>0.21</td>\n",
       "    </tr>\n",
       "    <tr>\n",
       "      <th>3</th>\n",
       "      <td>Away</td>\n",
       "      <td>PASS</td>\n",
       "      <td>None</td>\n",
       "      <td>1</td>\n",
       "      <td>45</td>\n",
       "      <td>1.80</td>\n",
       "      <td>61</td>\n",
       "      <td>2.44</td>\n",
       "      <td>Player15</td>\n",
       "      <td>Player19</td>\n",
       "      <td>0.55</td>\n",
       "      <td>0.19</td>\n",
       "      <td>0.45</td>\n",
       "      <td>0.31</td>\n",
       "    </tr>\n",
       "    <tr>\n",
       "      <th>4</th>\n",
       "      <td>Away</td>\n",
       "      <td>PASS</td>\n",
       "      <td>None</td>\n",
       "      <td>1</td>\n",
       "      <td>77</td>\n",
       "      <td>3.08</td>\n",
       "      <td>96</td>\n",
       "      <td>3.84</td>\n",
       "      <td>Player19</td>\n",
       "      <td>Player21</td>\n",
       "      <td>0.45</td>\n",
       "      <td>0.32</td>\n",
       "      <td>0.49</td>\n",
       "      <td>0.47</td>\n",
       "    </tr>\n",
       "  </tbody>\n",
       "</table>\n",
       "</div>"
      ],
      "text/plain": [
       "   Team       Type   Subtype  Period  Start Frame  Start Time [s]  End Frame  \\\n",
       "0  Away  SET PIECE  KICK OFF       1            1            0.04          0   \n",
       "1  Away       PASS      None       1            1            0.04          3   \n",
       "2  Away       PASS      None       1            3            0.12         17   \n",
       "3  Away       PASS      None       1           45            1.80         61   \n",
       "4  Away       PASS      None       1           77            3.08         96   \n",
       "\n",
       "   End Time [s]      From        To  Start X  Start Y  End X  End Y  \n",
       "0          0.00  Player19      None      NaN      NaN    NaN    NaN  \n",
       "1          0.12  Player19  Player21     0.45     0.39   0.55   0.43  \n",
       "2          0.68  Player21  Player15     0.55     0.43   0.58   0.21  \n",
       "3          2.44  Player15  Player19     0.55     0.19   0.45   0.31  \n",
       "4          3.84  Player19  Player21     0.45     0.32   0.49   0.47  "
      ]
     },
     "execution_count": 3,
     "metadata": {},
     "output_type": "execute_result"
    }
   ],
   "source": [
    "e_df.head()"
   ]
  },
  {
   "cell_type": "code",
   "execution_count": 4,
   "metadata": {},
   "outputs": [
    {
     "name": "stdout",
     "output_type": "stream",
     "text": [
      "<class 'pandas.core.series.Series'>\n",
      "Int64Index: 1745 entries, 0 to 1744\n",
      "Series name: Start Frame\n",
      "Non-Null Count  Dtype\n",
      "--------------  -----\n",
      "1745 non-null   int64\n",
      "dtypes: int64(1)\n",
      "memory usage: 27.3 KB\n"
     ]
    }
   ],
   "source": [
    "e_df['Start Frame'].info()"
   ]
  },
  {
   "cell_type": "code",
   "execution_count": 5,
   "metadata": {},
   "outputs": [],
   "source": [
    "df = df.merge(e_df.drop_duplicates(subset='Start Frame'), left_on='Frame', right_on='Start Frame', how='left') "
   ]
  },
  {
   "cell_type": "code",
   "execution_count": 6,
   "metadata": {},
   "outputs": [
    {
     "data": {
      "text/html": [
       "<div>\n",
       "<style scoped>\n",
       "    .dataframe tbody tr th:only-of-type {\n",
       "        vertical-align: middle;\n",
       "    }\n",
       "\n",
       "    .dataframe tbody tr th {\n",
       "        vertical-align: top;\n",
       "    }\n",
       "\n",
       "    .dataframe thead th {\n",
       "        text-align: right;\n",
       "    }\n",
       "</style>\n",
       "<table border=\"1\" class=\"dataframe\">\n",
       "  <thead>\n",
       "    <tr style=\"text-align: right;\">\n",
       "      <th></th>\n",
       "      <th>Period_x</th>\n",
       "      <th>Frame</th>\n",
       "      <th>Time [s]</th>\n",
       "      <th>H11_x</th>\n",
       "      <th>H11_y</th>\n",
       "      <th>H1_x</th>\n",
       "      <th>H1_y</th>\n",
       "      <th>H2_x</th>\n",
       "      <th>H2_y</th>\n",
       "      <th>H3_x</th>\n",
       "      <th>...</th>\n",
       "      <th>Start Frame</th>\n",
       "      <th>Start Time [s]</th>\n",
       "      <th>End Frame</th>\n",
       "      <th>End Time [s]</th>\n",
       "      <th>From</th>\n",
       "      <th>To</th>\n",
       "      <th>Start X</th>\n",
       "      <th>Start Y</th>\n",
       "      <th>End X</th>\n",
       "      <th>End Y</th>\n",
       "    </tr>\n",
       "  </thead>\n",
       "  <tbody>\n",
       "    <tr>\n",
       "      <th>0</th>\n",
       "      <td>1</td>\n",
       "      <td>1</td>\n",
       "      <td>0.04</td>\n",
       "      <td>0.08528</td>\n",
       "      <td>32.80184</td>\n",
       "      <td>33.95392</td>\n",
       "      <td>44.41896</td>\n",
       "      <td>35.04904</td>\n",
       "      <td>33.22684</td>\n",
       "      <td>32.16408</td>\n",
       "      <td>...</td>\n",
       "      <td>1.0</td>\n",
       "      <td>0.04</td>\n",
       "      <td>0.0</td>\n",
       "      <td>0.00</td>\n",
       "      <td>Player19</td>\n",
       "      <td>None</td>\n",
       "      <td>NaN</td>\n",
       "      <td>NaN</td>\n",
       "      <td>NaN</td>\n",
       "      <td>NaN</td>\n",
       "    </tr>\n",
       "    <tr>\n",
       "      <th>1</th>\n",
       "      <td>1</td>\n",
       "      <td>2</td>\n",
       "      <td>0.08</td>\n",
       "      <td>0.09984</td>\n",
       "      <td>32.80184</td>\n",
       "      <td>33.95392</td>\n",
       "      <td>44.41896</td>\n",
       "      <td>35.04904</td>\n",
       "      <td>33.22684</td>\n",
       "      <td>32.16408</td>\n",
       "      <td>...</td>\n",
       "      <td>NaN</td>\n",
       "      <td>NaN</td>\n",
       "      <td>NaN</td>\n",
       "      <td>NaN</td>\n",
       "      <td>NaN</td>\n",
       "      <td>NaN</td>\n",
       "      <td>NaN</td>\n",
       "      <td>NaN</td>\n",
       "      <td>NaN</td>\n",
       "      <td>NaN</td>\n",
       "    </tr>\n",
       "    <tr>\n",
       "      <th>2</th>\n",
       "      <td>1</td>\n",
       "      <td>3</td>\n",
       "      <td>0.12</td>\n",
       "      <td>0.11856</td>\n",
       "      <td>32.80184</td>\n",
       "      <td>33.95392</td>\n",
       "      <td>44.41896</td>\n",
       "      <td>35.04904</td>\n",
       "      <td>33.22684</td>\n",
       "      <td>32.16408</td>\n",
       "      <td>...</td>\n",
       "      <td>3.0</td>\n",
       "      <td>0.12</td>\n",
       "      <td>17.0</td>\n",
       "      <td>0.68</td>\n",
       "      <td>Player21</td>\n",
       "      <td>Player15</td>\n",
       "      <td>0.55</td>\n",
       "      <td>0.43</td>\n",
       "      <td>0.58</td>\n",
       "      <td>0.21</td>\n",
       "    </tr>\n",
       "    <tr>\n",
       "      <th>3</th>\n",
       "      <td>1</td>\n",
       "      <td>4</td>\n",
       "      <td>0.16</td>\n",
       "      <td>0.12584</td>\n",
       "      <td>32.80184</td>\n",
       "      <td>33.92688</td>\n",
       "      <td>44.41556</td>\n",
       "      <td>35.03448</td>\n",
       "      <td>33.31184</td>\n",
       "      <td>32.18176</td>\n",
       "      <td>...</td>\n",
       "      <td>NaN</td>\n",
       "      <td>NaN</td>\n",
       "      <td>NaN</td>\n",
       "      <td>NaN</td>\n",
       "      <td>NaN</td>\n",
       "      <td>NaN</td>\n",
       "      <td>NaN</td>\n",
       "      <td>NaN</td>\n",
       "      <td>NaN</td>\n",
       "      <td>NaN</td>\n",
       "    </tr>\n",
       "    <tr>\n",
       "      <th>4</th>\n",
       "      <td>1</td>\n",
       "      <td>5</td>\n",
       "      <td>0.20</td>\n",
       "      <td>0.13416</td>\n",
       "      <td>32.80184</td>\n",
       "      <td>33.90088</td>\n",
       "      <td>44.38292</td>\n",
       "      <td>35.01056</td>\n",
       "      <td>33.33224</td>\n",
       "      <td>32.18592</td>\n",
       "      <td>...</td>\n",
       "      <td>NaN</td>\n",
       "      <td>NaN</td>\n",
       "      <td>NaN</td>\n",
       "      <td>NaN</td>\n",
       "      <td>NaN</td>\n",
       "      <td>NaN</td>\n",
       "      <td>NaN</td>\n",
       "      <td>NaN</td>\n",
       "      <td>NaN</td>\n",
       "      <td>NaN</td>\n",
       "    </tr>\n",
       "  </tbody>\n",
       "</table>\n",
       "<p>5 rows × 162 columns</p>\n",
       "</div>"
      ],
      "text/plain": [
       "   Period_x  Frame  Time [s]    H11_x     H11_y      H1_x      H1_y      H2_x  \\\n",
       "0         1      1      0.04  0.08528  32.80184  33.95392  44.41896  35.04904   \n",
       "1         1      2      0.08  0.09984  32.80184  33.95392  44.41896  35.04904   \n",
       "2         1      3      0.12  0.11856  32.80184  33.95392  44.41896  35.04904   \n",
       "3         1      4      0.16  0.12584  32.80184  33.92688  44.41556  35.03448   \n",
       "4         1      5      0.20  0.13416  32.80184  33.90088  44.38292  35.01056   \n",
       "\n",
       "       H2_y      H3_x  ...  Start Frame  Start Time [s]  End Frame  \\\n",
       "0  33.22684  32.16408  ...          1.0            0.04        0.0   \n",
       "1  33.22684  32.16408  ...          NaN             NaN        NaN   \n",
       "2  33.22684  32.16408  ...          3.0            0.12       17.0   \n",
       "3  33.31184  32.18176  ...          NaN             NaN        NaN   \n",
       "4  33.33224  32.18592  ...          NaN             NaN        NaN   \n",
       "\n",
       "   End Time [s]      From        To  Start X  Start Y  End X  End Y  \n",
       "0          0.00  Player19      None      NaN      NaN    NaN    NaN  \n",
       "1           NaN       NaN       NaN      NaN      NaN    NaN    NaN  \n",
       "2          0.68  Player21  Player15     0.55     0.43   0.58   0.21  \n",
       "3           NaN       NaN       NaN      NaN      NaN    NaN    NaN  \n",
       "4           NaN       NaN       NaN      NaN      NaN    NaN    NaN  \n",
       "\n",
       "[5 rows x 162 columns]"
      ]
     },
     "execution_count": 6,
     "metadata": {},
     "output_type": "execute_result"
    }
   ],
   "source": [
    "df.head()"
   ]
  },
  {
   "cell_type": "code",
   "execution_count": 7,
   "metadata": {},
   "outputs": [],
   "source": [
    "lis = df['Team'].to_list()\n",
    "for i in range(len(lis)):\n",
    "    if type(lis[0]) == float :\n",
    "        lis[0] = 'Away'\n",
    "    if type(lis[i]) == float :\n",
    "        lis[i] = lis[i - 1]\n",
    "df['Team'] = lis"
   ]
  },
  {
   "attachments": {},
   "cell_type": "markdown",
   "metadata": {},
   "source": [
    "#### Constructing the dataset"
   ]
  },
  {
   "attachments": {},
   "cell_type": "markdown",
   "metadata": {},
   "source": [
    "- p_kl : time(t), certain location, bal's location\n",
    "- p_b  : time(t), ball's location\n",
    "- d_kl : time(t), ball's location, sum of defensive team's influence function value at certain location"
   ]
  },
  {
   "cell_type": "code",
   "execution_count": 8,
   "metadata": {},
   "outputs": [],
   "source": [
    "def influence_radius(ball, position):\n",
    "    distance = np.linalg.norm(ball - position)\n",
    "    output = np.minimum(3/200*(distance)**2 + 4, 10)\n",
    "    return output"
   ]
  },
  {
   "cell_type": "code",
   "execution_count": 9,
   "metadata": {},
   "outputs": [],
   "source": [
    "def influence_function2(position, locations, velocity, ball):\n",
    "    mu = position + 0.5*velocity\n",
    "    srat = (velocity[0]**2 + velocity[1]**2)/13**2\n",
    "    theta = np.arctan(velocity[1]/(velocity[0]+1e-7))\n",
    "    R = np.array([[np.cos(theta), -np.sin(theta)],[np.sin(theta), np.cos(theta)]])\n",
    "    R_inv = np.array([[np.cos(theta), np.sin(theta)],[-np.sin(theta), np.cos(theta)]])\n",
    "    Ri = influence_radius(ball, position)\n",
    "    S = np.array([[(1 + srat)*Ri/2, 0],[0, (1-srat)*Ri/2]])\n",
    "    Cov = np.matmul(np.matmul(np.matmul(R, S), S), R_inv)\n",
    "    new_gaussian = multivariate_normal(mu, Cov)\n",
    "    out = new_gaussian.pdf(locations)\n",
    "    out /= new_gaussian.pdf(position)\n",
    "    return out"
   ]
  },
  {
   "cell_type": "code",
   "execution_count": 10,
   "metadata": {},
   "outputs": [],
   "source": [
    "frame = 1000"
   ]
  },
  {
   "cell_type": "code",
   "execution_count": 11,
   "metadata": {},
   "outputs": [],
   "source": [
    "t_df = df[df['Frame'] == frame].drop(['Period_x', 'Period_y', 'Ball_x', 'Ball_y', 'Ball_v_abs'], axis=1).iloc[0,:]"
   ]
  },
  {
   "cell_type": "code",
   "execution_count": 12,
   "metadata": {},
   "outputs": [],
   "source": [
    "positions = t_df[[i for i in t_df.index if (('_x' in i) or ('_y' in i)) and 'v' not in i]]\n",
    "positions.dropna(inplace=True)"
   ]
  },
  {
   "cell_type": "code",
   "execution_count": 13,
   "metadata": {},
   "outputs": [],
   "source": [
    "velocities = t_df[[i for i in t_df.index if '_v' in i]]\n",
    "velocities.dropna(inplace=True)"
   ]
  },
  {
   "cell_type": "code",
   "execution_count": 14,
   "metadata": {},
   "outputs": [],
   "source": [
    "points = np.array([[positions[2*i], positions[2*i+1]] for i in range(len(positions)//2)])\n",
    "velocities = np.array([[velocities[3*i], velocities[3*i+1]] for i in range(len(velocities)//3)])"
   ]
  },
  {
   "cell_type": "code",
   "execution_count": 15,
   "metadata": {},
   "outputs": [],
   "source": [
    "players = np.array([positions.index[2*i].split('_')[0] for i in range(len(points))])\n",
    "ball_x, ball_y = df.loc[df['Frame'] == frame, ['Ball_x', 'Ball_y']].values[0]\n",
    "\n",
    "x, y = np.mgrid[0:104:2, 0:68:2]\n",
    "locations = np.concatenate([x.reshape(-1,1), y.reshape(-1,1)], axis=1)\n",
    "\n",
    "d_kl = 0\n",
    "for i, j, k in zip(players, points, velocities):\n",
    "    if t_df['Team'] == 'Away' :\n",
    "        if 'H' in i:\n",
    "            d_kl += influence_function2(j, locations, k, (ball_x, ball_y))\n",
    "    elif t_df['Team'] == 'Home':\n",
    "        if 'A' in i:\n",
    "            d_kl += influence_function2(j, locations, k, (ball_x, ball_y))\n"
   ]
  },
  {
   "cell_type": "code",
   "execution_count": 16,
   "metadata": {},
   "outputs": [],
   "source": [
    "d_kl[d_kl>=1] = 1\n",
    "v_kl = d_kl"
   ]
  },
  {
   "cell_type": "code",
   "execution_count": 17,
   "metadata": {},
   "outputs": [],
   "source": [
    "tt_df = pd.DataFrame({'v_kl':v_kl, 'Ball_x':np.ones(len(d_kl))*ball_x, 'Ball_y':np.ones(len(d_kl))*ball_y, 'loc_x':locations[:,0], 'loc_y':locations[:,1]})"
   ]
  },
  {
   "attachments": {},
   "cell_type": "markdown",
   "metadata": {},
   "source": [
    "#### Function for constructing dataset"
   ]
  },
  {
   "cell_type": "code",
   "execution_count": 62,
   "metadata": {},
   "outputs": [
    {
     "data": {
      "text/html": [
       "<div>\n",
       "<style scoped>\n",
       "    .dataframe tbody tr th:only-of-type {\n",
       "        vertical-align: middle;\n",
       "    }\n",
       "\n",
       "    .dataframe tbody tr th {\n",
       "        vertical-align: top;\n",
       "    }\n",
       "\n",
       "    .dataframe thead th {\n",
       "        text-align: right;\n",
       "    }\n",
       "</style>\n",
       "<table border=\"1\" class=\"dataframe\">\n",
       "  <thead>\n",
       "    <tr style=\"text-align: right;\">\n",
       "      <th></th>\n",
       "      <th>Ball_x</th>\n",
       "      <th>Ball_y</th>\n",
       "      <th>loc_x</th>\n",
       "      <th>loc_y</th>\n",
       "      <th>v_kl</th>\n",
       "    </tr>\n",
       "  </thead>\n",
       "  <tbody>\n",
       "  </tbody>\n",
       "</table>\n",
       "</div>"
      ],
      "text/plain": [
       "Empty DataFrame\n",
       "Columns: [Ball_x, Ball_y, loc_x, loc_y, v_kl]\n",
       "Index: []"
      ]
     },
     "execution_count": 62,
     "metadata": {},
     "output_type": "execute_result"
    }
   ],
   "source": [
    "full_data = pd.DataFrame(columns = ['Ball_x', 'Ball_y', 'loc_x', 'loc_y', 'v_kl'])\n",
    "full_data"
   ]
  },
  {
   "cell_type": "code",
   "execution_count": 64,
   "metadata": {},
   "outputs": [],
   "source": [
    "with open('./Data/full_data2.csv', 'w') as csvfile:\n",
    "    fieldnames = ['Ball_x', 'Ball_y', 'loc_x', 'loc_y', 'v_kl']\n",
    "    writer = csv.DictWriter(csvfile, fieldnames=fieldnames)\n",
    "    writer.writeheader()"
   ]
  },
  {
   "cell_type": "code",
   "execution_count": 68,
   "metadata": {},
   "outputs": [],
   "source": [
    "df = df\n",
    "fieldnames = ['Ball_x', 'Ball_y', 'loc_x', 'loc_y', 'v_kl']\n",
    "\n",
    "for frame in np.arange(1, len(df['Frame']), 75):\n",
    "    t_df = df[df['Frame'] == frame].drop(['Period_x', 'Period_y', 'Ball_x', 'Ball_y', 'Ball_v_abs'], axis=1).iloc[0,:]\n",
    "    positions = t_df[[i for i in t_df.index if (('_x' in i) or ('_y' in i)) and 'v' not in i]]\n",
    "    positions.dropna(inplace=True)\n",
    "    velocities = t_df[[i for i in t_df.index if '_v' in i]]\n",
    "    velocities.dropna(inplace=True)\n",
    "    points = np.array([[positions[2*i], positions[2*i+1]] for i in range(len(positions)//2)])\n",
    "    velocities = np.array([[velocities[3*i], velocities[3*i+1]] for i in range(len(velocities)//3)])\n",
    "    if len(points) != 22 or len(velocities) != 22 :\n",
    "        continue\n",
    "    players = np.array([positions.index[2*i].split('_')[0] for i in range(len(points))])\n",
    "    ball_x, ball_y = df.loc[df['Frame'] == frame, ['Ball_x', 'Ball_y']].values[0]\n",
    "    if math.isnan(ball_x) :\n",
    "        continue\n",
    "\n",
    "    x, y = np.mgrid[0:104:5, 0:68:5]\n",
    "    locations = np.concatenate([x.reshape(-1,1), y.reshape(-1,1)], axis=1)\n",
    "\n",
    "    d_kl = 0\n",
    "    for i, j, k in zip(players, points, velocities):\n",
    "        if t_df['Team'] == 'Away' :\n",
    "            if 'H' in i:\n",
    "                d_kl += influence_function2(j, locations, k, (ball_x, ball_y))\n",
    "        elif t_df['Team'] == 'Home':\n",
    "            if 'A' in i:\n",
    "                d_kl += influence_function2(j, locations, k, (ball_x, ball_y))\n",
    "    \n",
    "    d_kl[d_kl>=1] = 1\n",
    "    v_kl = d_kl\n",
    "    tt_df = pd.DataFrame({'v_kl':v_kl, 'Ball_x':np.ones(len(d_kl))*ball_x, 'Ball_y':np.ones(len(d_kl))*ball_y, 'loc_x':locations[:,0], 'loc_y':locations[:,1]})\n",
    "\n",
    "    with open('./Data/full_data2.csv', 'a') as csvfile:\n",
    "        writer = csv.DictWriter(csvfile, fieldnames=fieldnames)\n",
    "        for idx in range(len(tt_df)):\n",
    "            writer.writerow(tt_df.loc[idx].to_dict())\n",
    "                \n",
    "    if frame%(100*75) == 1:\n",
    "        print('\\r ' + str(frame)+'/'+str(len(df)), end=\"\")\n"
   ]
  },
  {
   "cell_type": "code",
   "execution_count": 330,
   "metadata": {},
   "outputs": [],
   "source": [
    "df = pd.read_json('./Data/sample_match_2_with_v.json')\n",
    "e_df = pd.read_json('./Data/sample_Game_2_events.json')\n",
    "\n",
    "df = df.merge(e_df.drop_duplicates(subset='Start Frame'), left_on='Frame', right_on='Start Frame', how='left') \n",
    "\n",
    "lis = df['Team'].to_list()\n",
    "for i in range(len(lis)):\n",
    "    if type(lis[0]) == float :\n",
    "        lis[0] = 'Away'\n",
    "    if type(lis[i]) == float :\n",
    "        lis[i] = lis[i - 1]\n",
    "df['Team'] = lis\n"
   ]
  },
  {
   "cell_type": "code",
   "execution_count": 69,
   "metadata": {},
   "outputs": [
    {
     "name": "stdout",
     "output_type": "stream",
     "text": [
      " 127501/145006"
     ]
    }
   ],
   "source": [
    "for frame in np.arange(1, len(df['Frame']), 75):\n",
    "    t_df = df[df['Frame'] == frame].drop(['Period_x', 'Period_y', 'Ball_x', 'Ball_y', 'Ball_v_abs'], axis=1).iloc[0,:]\n",
    "    positions = t_df[[i for i in t_df.index if (('_x' in i) or ('_y' in i)) and 'v' not in i]]\n",
    "    positions.dropna(inplace=True)\n",
    "    velocities = t_df[[i for i in t_df.index if '_v' in i]]\n",
    "    velocities.dropna(inplace=True)\n",
    "    points = np.array([[positions[2*i], positions[2*i+1]] for i in range(len(positions)//2)])\n",
    "    velocities = np.array([[velocities[3*i], velocities[3*i+1]] for i in range(len(velocities)//3)])\n",
    "    if len(points) != 22 or len(velocities) != 22 :\n",
    "        continue\n",
    "    players = np.array([positions.index[2*i].split('_')[0] for i in range(len(points))])\n",
    "    ball_x, ball_y = df.loc[df['Frame'] == frame, ['Ball_x', 'Ball_y']].values[0]\n",
    "    if math.isnan(ball_x) :\n",
    "        continue\n",
    "\n",
    "    x, y = np.mgrid[0:104:5, 0:68:5]\n",
    "    locations = np.concatenate([x.reshape(-1,1), y.reshape(-1,1)], axis=1)\n",
    "\n",
    "    d_kl = 0\n",
    "    for i, j, k in zip(players, points, velocities):\n",
    "        if t_df['Team'] == 'Away' :\n",
    "            if 'H' in i:\n",
    "                d_kl += influence_function2(j, locations, k, (ball_x, ball_y))\n",
    "        elif t_df['Team'] == 'Home':\n",
    "            if 'A' in i:\n",
    "                d_kl += influence_function2(j, locations, k, (ball_x, ball_y))\n",
    "    \n",
    "    d_kl[d_kl>=1] = 1\n",
    "    v_kl = d_kl\n",
    "    tt_df = pd.DataFrame({'v_kl':v_kl, 'Ball_x':np.ones(len(d_kl))*ball_x, 'Ball_y':np.ones(len(d_kl))*ball_y, 'loc_x':locations[:,0], 'loc_y':locations[:,1]})\n",
    "\n",
    "    with open('./Data/full_data2.csv', 'a') as csvfile:\n",
    "        writer = csv.DictWriter(csvfile, fieldnames=fieldnames)\n",
    "        for idx in range(len(tt_df)):\n",
    "            writer.writerow(tt_df.loc[idx].to_dict())\n",
    "                \n",
    "    if frame%(100*75) == 1:\n",
    "        print('\\r ' + str(frame)+'/'+str(len(df)), end=\"\")"
   ]
  },
  {
   "attachments": {},
   "cell_type": "markdown",
   "metadata": {},
   "source": [
    "#### Checking the data values"
   ]
  },
  {
   "cell_type": "code",
   "execution_count": 72,
   "metadata": {},
   "outputs": [],
   "source": [
    "data = pd.read_csv('./Data/full_data2.csv')"
   ]
  },
  {
   "cell_type": "code",
   "execution_count": 73,
   "metadata": {},
   "outputs": [
    {
     "data": {
      "text/html": [
       "<div>\n",
       "<style scoped>\n",
       "    .dataframe tbody tr th:only-of-type {\n",
       "        vertical-align: middle;\n",
       "    }\n",
       "\n",
       "    .dataframe tbody tr th {\n",
       "        vertical-align: top;\n",
       "    }\n",
       "\n",
       "    .dataframe thead th {\n",
       "        text-align: right;\n",
       "    }\n",
       "</style>\n",
       "<table border=\"1\" class=\"dataframe\">\n",
       "  <thead>\n",
       "    <tr style=\"text-align: right;\">\n",
       "      <th></th>\n",
       "      <th>Ball_x</th>\n",
       "      <th>Ball_y</th>\n",
       "      <th>loc_x</th>\n",
       "      <th>loc_y</th>\n",
       "      <th>v_kl</th>\n",
       "    </tr>\n",
       "  </thead>\n",
       "  <tbody>\n",
       "    <tr>\n",
       "      <th>0</th>\n",
       "      <td>47.06832</td>\n",
       "      <td>21.4574</td>\n",
       "      <td>0.0</td>\n",
       "      <td>0.0</td>\n",
       "      <td>4.439146e-10</td>\n",
       "    </tr>\n",
       "    <tr>\n",
       "      <th>1</th>\n",
       "      <td>47.06832</td>\n",
       "      <td>21.4574</td>\n",
       "      <td>0.0</td>\n",
       "      <td>5.0</td>\n",
       "      <td>1.929861e-07</td>\n",
       "    </tr>\n",
       "    <tr>\n",
       "      <th>2</th>\n",
       "      <td>47.06832</td>\n",
       "      <td>21.4574</td>\n",
       "      <td>0.0</td>\n",
       "      <td>10.0</td>\n",
       "      <td>3.073034e-05</td>\n",
       "    </tr>\n",
       "    <tr>\n",
       "      <th>3</th>\n",
       "      <td>47.06832</td>\n",
       "      <td>21.4574</td>\n",
       "      <td>0.0</td>\n",
       "      <td>15.0</td>\n",
       "      <td>1.792330e-03</td>\n",
       "    </tr>\n",
       "    <tr>\n",
       "      <th>4</th>\n",
       "      <td>47.06832</td>\n",
       "      <td>21.4574</td>\n",
       "      <td>0.0</td>\n",
       "      <td>20.0</td>\n",
       "      <td>3.828928e-02</td>\n",
       "    </tr>\n",
       "  </tbody>\n",
       "</table>\n",
       "</div>"
      ],
      "text/plain": [
       "     Ball_x   Ball_y  loc_x  loc_y          v_kl\n",
       "0  47.06832  21.4574    0.0    0.0  4.439146e-10\n",
       "1  47.06832  21.4574    0.0    5.0  1.929861e-07\n",
       "2  47.06832  21.4574    0.0   10.0  3.073034e-05\n",
       "3  47.06832  21.4574    0.0   15.0  1.792330e-03\n",
       "4  47.06832  21.4574    0.0   20.0  3.828928e-02"
      ]
     },
     "execution_count": 73,
     "metadata": {},
     "output_type": "execute_result"
    }
   ],
   "source": [
    "data.head()"
   ]
  },
  {
   "cell_type": "code",
   "execution_count": null,
   "metadata": {},
   "outputs": [],
   "source": [
    "x, y = np.mgrid[0:104:0.1, 0:68:0.1]"
   ]
  },
  {
   "cell_type": "code",
   "execution_count": 14,
   "metadata": {},
   "outputs": [],
   "source": [
    "t_df = df[df['Frame'] == frame].drop(['Period_x', 'Period_y', 'Ball_x', 'Ball_y', 'Ball_v_abs'], axis=1).iloc[0,:]\n",
    "positions = t_df[[i for i in t_df.index if (('_x' in i) or ('_y' in i)) and 'v' not in i]]\n",
    "positions.dropna(inplace=True)\n",
    "velocities = t_df[[i for i in t_df.index if '_v' in i]]\n",
    "velocities.dropna(inplace=True)\n",
    "points = np.array([[positions[2*i], positions[2*i+1]] for i in range(len(positions)//2)])\n",
    "velocities = np.array([[velocities[3*i], velocities[3*i+1]] for i in range(len(velocities)//3)])\n",
    "players = np.array([positions.index[2*i].split('_')[0] for i in range(len(points))])\n",
    "ball_x, ball_y = df.loc[df['Frame'] == frame, ['Ball_x', 'Ball_y']].values[0]\n",
    "\n",
    "# x = np.random.randint(1, 104, 100)\n",
    "# y = np.random.randint(1, 68, 100)\n",
    "x, y = np.mgrid[0:104:0.1, 0:68:0.1]\n",
    "locations = np.concatenate([x.reshape(-1,1), y.reshape(-1,1)], axis=1)\n",
    "\n",
    "d_kl = 0\n",
    "for i, j, k in zip(players, points, velocities):\n",
    "    if t_df['Team'] == 'Away' :\n",
    "        if 'H' in i:\n",
    "            d_kl += influence_function2(j, locations, k, (ball_x, ball_y))\n",
    "    elif t_df['Team'] == 'Home':\n",
    "        if 'A' in i:\n",
    "            d_kl += influence_function2(j, locations, k, (ball_x, ball_y))\n",
    "\n",
    "d_kl[d_kl>=1] = 1\n",
    "v_kl = d_kl\n",
    "tt_df = pd.DataFrame({'v_kl':v_kl, 'Ball_x':np.ones(len(d_kl))*ball_x, 'Ball_y':np.ones(len(d_kl))*ball_y, 'loc_x':locations[:,0], 'loc_y':locations[:,1]})"
   ]
  },
  {
   "cell_type": "code",
   "execution_count": 18,
   "metadata": {},
   "outputs": [
    {
     "data": {
      "text/plain": [
       "(1040, 680)"
      ]
     },
     "execution_count": 18,
     "metadata": {},
     "output_type": "execute_result"
    }
   ],
   "source": [
    "x.shape"
   ]
  },
  {
   "cell_type": "code",
   "execution_count": 23,
   "metadata": {},
   "outputs": [
    {
     "data": {
      "text/plain": [
       "<matplotlib.collections.PathCollection at 0x348bb0050>"
      ]
     },
     "execution_count": 23,
     "metadata": {},
     "output_type": "execute_result"
    },
    {
     "data": {
      "image/png": "[encoded data removed]",
      "text/plain": [
       "<Figure size 1040x680 with 1 Axes>"
      ]
     },
     "metadata": {},
     "output_type": "display_data"
    }
   ],
   "source": [
    "fig, ax = draw_pitch('white', 'black')\n",
    "\n",
    "ax.contourf(x, y, d_kl.reshape(1040, 680), alpha=0.8)\n",
    "ax.scatter(ball_x, ball_y, c='red')"
   ]
  },
  {
   "cell_type": "code",
   "execution_count": 24,
   "metadata": {},
   "outputs": [
    {
     "data": {
      "text/plain": [
       "(array([475153.,  31631.,  26678.,  22374.,  21763.,  21122.,  20120.,\n",
       "         17071.,  16586.,  54702.]),\n",
       " array([6.96528443e-35, 1.00000000e-01, 2.00000000e-01, 3.00000000e-01,\n",
       "        4.00000000e-01, 5.00000000e-01, 6.00000000e-01, 7.00000000e-01,\n",
       "        8.00000000e-01, 9.00000000e-01, 1.00000000e+00]),\n",
       " <BarContainer object of 10 artists>)"
      ]
     },
     "execution_count": 24,
     "metadata": {},
     "output_type": "execute_result"
    },
    {
     "data": {
      "image/png": "[encoded data removed]",
      "text/plain": [
       "<Figure size 640x480 with 1 Axes>"
      ]
     },
     "metadata": {},
     "output_type": "display_data"
    }
   ],
   "source": [
    "plt.hist(d_kl)"
   ]
  },
  {
   "cell_type": "code",
   "execution_count": 5,
   "metadata": {},
   "outputs": [],
   "source": [
    "df = pd.read_json('./Data/sample_match_3_with_v.json')\n",
    "e_df = pd.read_json('./Data/sample_Game_3_events.json')\n"
   ]
  },
  {
   "cell_type": "code",
   "execution_count": 6,
   "metadata": {},
   "outputs": [
    {
     "data": {
      "text/html": [
       "<div>\n",
       "<style scoped>\n",
       "    .dataframe tbody tr th:only-of-type {\n",
       "        vertical-align: middle;\n",
       "    }\n",
       "\n",
       "    .dataframe tbody tr th {\n",
       "        vertical-align: top;\n",
       "    }\n",
       "\n",
       "    .dataframe thead th {\n",
       "        text-align: right;\n",
       "    }\n",
       "</style>\n",
       "<table border=\"1\" class=\"dataframe\">\n",
       "  <thead>\n",
       "    <tr style=\"text-align: right;\">\n",
       "      <th></th>\n",
       "      <th>event_id</th>\n",
       "      <th>event_type</th>\n",
       "      <th>result</th>\n",
       "      <th>success</th>\n",
       "      <th>period_id</th>\n",
       "      <th>timestamp</th>\n",
       "      <th>end_timestamp</th>\n",
       "      <th>ball_state</th>\n",
       "      <th>ball_owning_team</th>\n",
       "      <th>team_id</th>\n",
       "      <th>player_id</th>\n",
       "      <th>coordinates_x</th>\n",
       "      <th>coordinates_y</th>\n",
       "      <th>end_coordinates_x</th>\n",
       "      <th>end_coordinates_y</th>\n",
       "      <th>receiver_player_id</th>\n",
       "      <th>set_piece_type</th>\n",
       "      <th>body_part_type</th>\n",
       "    </tr>\n",
       "  </thead>\n",
       "  <tbody>\n",
       "    <tr>\n",
       "      <th>0</th>\n",
       "      <td>NaN</td>\n",
       "      <td>GENERIC:SET PIECE</td>\n",
       "      <td>None</td>\n",
       "      <td>NaN</td>\n",
       "      <td>1</td>\n",
       "      <td>14.44</td>\n",
       "      <td>NaN</td>\n",
       "      <td>alive</td>\n",
       "      <td>FIFATMA</td>\n",
       "      <td>FIFATMA</td>\n",
       "      <td>P3577</td>\n",
       "      <td>NaN</td>\n",
       "      <td>NaN</td>\n",
       "      <td>NaN</td>\n",
       "      <td>NaN</td>\n",
       "      <td>None</td>\n",
       "      <td>None</td>\n",
       "      <td>None</td>\n",
       "    </tr>\n",
       "    <tr>\n",
       "      <th>1</th>\n",
       "      <td>NaN</td>\n",
       "      <td>PASS</td>\n",
       "      <td>COMPLETE</td>\n",
       "      <td>1.0</td>\n",
       "      <td>1</td>\n",
       "      <td>14.44</td>\n",
       "      <td>15.08</td>\n",
       "      <td>alive</td>\n",
       "      <td>FIFATMA</td>\n",
       "      <td>FIFATMA</td>\n",
       "      <td>P3577</td>\n",
       "      <td>0.50125</td>\n",
       "      <td>0.48725</td>\n",
       "      <td>0.49864</td>\n",
       "      <td>0.48705</td>\n",
       "      <td>P3574</td>\n",
       "      <td>KICK_OFF</td>\n",
       "      <td>None</td>\n",
       "    </tr>\n",
       "    <tr>\n",
       "      <th>2</th>\n",
       "      <td>NaN</td>\n",
       "      <td>CARRY</td>\n",
       "      <td>COMPLETE</td>\n",
       "      <td>1.0</td>\n",
       "      <td>1</td>\n",
       "      <td>15.08</td>\n",
       "      <td>15.36</td>\n",
       "      <td>alive</td>\n",
       "      <td>FIFATMA</td>\n",
       "      <td>FIFATMA</td>\n",
       "      <td>P3574</td>\n",
       "      <td>0.49864</td>\n",
       "      <td>0.48705</td>\n",
       "      <td>0.49700</td>\n",
       "      <td>0.48500</td>\n",
       "      <td>None</td>\n",
       "      <td>None</td>\n",
       "      <td>None</td>\n",
       "    </tr>\n",
       "    <tr>\n",
       "      <th>3</th>\n",
       "      <td>NaN</td>\n",
       "      <td>PASS</td>\n",
       "      <td>COMPLETE</td>\n",
       "      <td>1.0</td>\n",
       "      <td>1</td>\n",
       "      <td>15.36</td>\n",
       "      <td>17.04</td>\n",
       "      <td>alive</td>\n",
       "      <td>FIFATMA</td>\n",
       "      <td>FIFATMA</td>\n",
       "      <td>P3574</td>\n",
       "      <td>0.49700</td>\n",
       "      <td>0.48500</td>\n",
       "      <td>0.63373</td>\n",
       "      <td>0.63449</td>\n",
       "      <td>P3575</td>\n",
       "      <td>None</td>\n",
       "      <td>None</td>\n",
       "    </tr>\n",
       "    <tr>\n",
       "      <th>4</th>\n",
       "      <td>NaN</td>\n",
       "      <td>CARRY</td>\n",
       "      <td>COMPLETE</td>\n",
       "      <td>1.0</td>\n",
       "      <td>1</td>\n",
       "      <td>17.04</td>\n",
       "      <td>18.60</td>\n",
       "      <td>alive</td>\n",
       "      <td>FIFATMA</td>\n",
       "      <td>FIFATMA</td>\n",
       "      <td>P3575</td>\n",
       "      <td>0.63373</td>\n",
       "      <td>0.63449</td>\n",
       "      <td>0.66986</td>\n",
       "      <td>0.59707</td>\n",
       "      <td>None</td>\n",
       "      <td>None</td>\n",
       "      <td>None</td>\n",
       "    </tr>\n",
       "  </tbody>\n",
       "</table>\n",
       "</div>"
      ],
      "text/plain": [
       "   event_id         event_type    result  success  period_id  timestamp  \\\n",
       "0       NaN  GENERIC:SET PIECE      None      NaN          1      14.44   \n",
       "1       NaN               PASS  COMPLETE      1.0          1      14.44   \n",
       "2       NaN              CARRY  COMPLETE      1.0          1      15.08   \n",
       "3       NaN               PASS  COMPLETE      1.0          1      15.36   \n",
       "4       NaN              CARRY  COMPLETE      1.0          1      17.04   \n",
       "\n",
       "   end_timestamp ball_state ball_owning_team  team_id player_id  \\\n",
       "0            NaN      alive          FIFATMA  FIFATMA     P3577   \n",
       "1          15.08      alive          FIFATMA  FIFATMA     P3577   \n",
       "2          15.36      alive          FIFATMA  FIFATMA     P3574   \n",
       "3          17.04      alive          FIFATMA  FIFATMA     P3574   \n",
       "4          18.60      alive          FIFATMA  FIFATMA     P3575   \n",
       "\n",
       "   coordinates_x  coordinates_y  end_coordinates_x  end_coordinates_y  \\\n",
       "0            NaN            NaN                NaN                NaN   \n",
       "1        0.50125        0.48725            0.49864            0.48705   \n",
       "2        0.49864        0.48705            0.49700            0.48500   \n",
       "3        0.49700        0.48500            0.63373            0.63449   \n",
       "4        0.63373        0.63449            0.66986            0.59707   \n",
       "\n",
       "  receiver_player_id set_piece_type body_part_type  \n",
       "0               None           None           None  \n",
       "1              P3574       KICK_OFF           None  \n",
       "2               None           None           None  \n",
       "3              P3575           None           None  \n",
       "4               None           None           None  "
      ]
     },
     "execution_count": 6,
     "metadata": {},
     "output_type": "execute_result"
    }
   ],
   "source": [
    "e_df.head()"
   ]
  }
 ],
 "metadata": {
  "kernelspec": {
   "display_name": "Python 3",
   "language": "python",
   "name": "python3"
  },
  "language_info": {
   "codemirror_mode": {
    "name": "ipython",
    "version": 3
   },
   "file_extension": ".py",
   "mimetype": "text/x-python",
   "name": "python",
   "nbconvert_exporter": "python",
   "pygments_lexer": "ipython3",
   "version": "3.11.2"
  },
  "orig_nbformat": 4,
  "vscode": {
   "interpreter": {
    "hash": "aee8b7b246df8f9039afb4144a1f6fd8d2ca17a180786b69acc140d282b71a49"
   }
  }
 },
 "nbformat": 4,
 "nbformat_minor": 2
}
