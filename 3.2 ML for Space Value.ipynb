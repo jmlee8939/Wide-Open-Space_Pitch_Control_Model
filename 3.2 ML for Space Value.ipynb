{
 "cells": [
  {
   "cell_type": "code",
   "execution_count": 2,
   "metadata": {},
   "outputs": [],
   "source": [
    "import csv\n",
    "import math\n",
    "import pandas as pd\n",
    "import numpy as np\n",
    "import torch\n",
    "import torch.nn.functional as F\n",
    "import torchsummary\n",
    "import matplotlib.pyplot as plt\n",
    "from src.plot_utils import draw_pitch\n",
    "from torchsummary import summary\n",
    "from torch import nn\n",
    "from torch import optim\n",
    "from torch.utils.data import Dataset\n",
    "from torch.utils.data import DataLoader\n",
    "from torch.utils.data import random_split"
   ]
  },
  {
   "attachments": {},
   "cell_type": "markdown",
   "metadata": {},
   "source": [
    "#### Checking torch environment "
   ]
  },
  {
   "cell_type": "code",
   "execution_count": 3,
   "metadata": {},
   "outputs": [],
   "source": [
    "device = torch.device('mps:0' if torch.backends.mps.is_available() else 'cpu')"
   ]
  },
  {
   "cell_type": "code",
   "execution_count": 4,
   "metadata": {},
   "outputs": [
    {
     "name": "stdout",
     "output_type": "stream",
     "text": [
      "PyTorch version:2.0.1\n",
      "MPS 장치를 지원하도록 build 되었는지: True\n",
      "MPS 장치가 사용 가능한지: True\n",
      "macOS-13.4-arm64-arm-64bit\n"
     ]
    }
   ],
   "source": [
    "print (f\"PyTorch version:{torch.__version__}\") # 1.12.1 이상\n",
    "print(f\"MPS 장치를 지원하도록 build 되었는지: {torch.backends.mps.is_built()}\") # True 여야 합니다.\n",
    "print(f\"MPS 장치가 사용 가능한지: {torch.backends.mps.is_available()}\") # True 여야 합니다.\n",
    "!python -c 'import platform;print(platform.platform())'"
   ]
  },
  {
   "cell_type": "markdown",
   "metadata": {},
   "source": [
    "#### 커스텀 데이터셋 구성"
   ]
  },
  {
   "cell_type": "code",
   "execution_count": 5,
   "metadata": {},
   "outputs": [],
   "source": [
    "class custom_dataset(Dataset):\n",
    "    def __init__(self, file_path):\n",
    "        data = pd.read_csv(file_path)\n",
    "        data['Ball_x'] = data['Ball_x']/104\n",
    "        data['loc_x'] = data['loc_x']/104\n",
    "        data['Ball_y'] = data['Ball_y']/68\n",
    "        data['loc_y'] = data['loc_y']/68\n",
    "        self.columns = data.columns.to_list()\n",
    "        self.y = data['v_kl'].values.reshape(-1, 1)\n",
    "        self.x = data[['Ball_x', 'Ball_y', 'loc_x', 'loc_y']].values\n",
    "        self.length = len(data)\n",
    "    \n",
    "    def __getitem__(self, index):\n",
    "        x = torch.FloatTensor(self.x[index])\n",
    "        y = torch.FloatTensor(self.y[index])\n",
    "        return x, y\n",
    "    \n",
    "    def __len__(self):\n",
    "        return self.length\n",
    "    \n",
    "    def column(self):\n",
    "        return self.column"
   ]
  },
  {
   "cell_type": "code",
   "execution_count": 6,
   "metadata": {},
   "outputs": [],
   "source": [
    "dataset = custom_dataset('./Data/full_data2.csv')"
   ]
  },
  {
   "cell_type": "code",
   "execution_count": 7,
   "metadata": {},
   "outputs": [
    {
     "name": "stdout",
     "output_type": "stream",
     "text": [
      "691488\n"
     ]
    }
   ],
   "source": [
    "dataset_size = len(dataset)\n",
    "print(dataset_size)"
   ]
  },
  {
   "cell_type": "code",
   "execution_count": 8,
   "metadata": {},
   "outputs": [],
   "source": [
    "train_size = int(dataset_size * 0.8)\n",
    "test_size = dataset_size - train_size"
   ]
  },
  {
   "cell_type": "code",
   "execution_count": 9,
   "metadata": {},
   "outputs": [],
   "source": [
    "generator1 = torch.Generator().manual_seed(1)\n",
    "train_dataset, test_dataset = random_split(dataset, [train_size, test_size])"
   ]
  },
  {
   "cell_type": "code",
   "execution_count": 10,
   "metadata": {},
   "outputs": [],
   "source": [
    "train_dataloader = DataLoader(train_dataset, batch_size=1024, shuffle=True)\n",
    "test_dataloader = DataLoader(test_dataset, batch_size=1024)"
   ]
  },
  {
   "cell_type": "code",
   "execution_count": 12,
   "metadata": {},
   "outputs": [],
   "source": [
    "class nnModel(nn.Module):\n",
    "    def __init__(self):\n",
    "        super().__init__()\n",
    "        self.hidden1 = nn.Linear(4, 24, bias=True)\n",
    "        self.hidden2 = nn.Linear(24, 16, bias= True)\n",
    "        self.hidden3 = nn.Linear(16, 8, bias= True)\n",
    "        self.output = nn.Linear(8, 1, bias=True)\n",
    "        #self.dropout = nn.Dropout(0.2)\n",
    "\n",
    "    def forward(self, x):\n",
    "        x = F.relu(self.hidden1(x))\n",
    "        x = F.relu(self.hidden2(x))\n",
    "        x = F.relu(self.hidden3(x))\n",
    "        x = self.output(x)\n",
    "\n",
    "        return x\n",
    "    \n",
    "    def reset_parameters(self):\n",
    "        nn.init.kaiming_normal_(self.hidden1.weight)\n",
    "        self.hidden1.bias.data.fill_(0.01)\n",
    "        nn.init.kaiming_normal_(self.hidden2.weight)\n",
    "        self.hidden2.bias.data.fill_(0.01)\n",
    "        nn.init.kaiming_normal_(self.hidden3.weight)\n",
    "        self.hidden3.bias.data.fill_(0.01)\n",
    "        nn.init.kaiming_normal_(self.output.weight)\n",
    "        self.output.bias.data.fill_(0.01)"
   ]
  },
  {
   "cell_type": "code",
   "execution_count": 37,
   "metadata": {},
   "outputs": [],
   "source": [
    "model = nnModel()\n",
    "model.reset_parameters()"
   ]
  },
  {
   "cell_type": "markdown",
   "metadata": {},
   "source": []
  },
  {
   "cell_type": "code",
   "execution_count": 38,
   "metadata": {},
   "outputs": [
    {
     "name": "stdout",
     "output_type": "stream",
     "text": [
      "----------------------------------------------------------------\n",
      "        Layer (type)               Output Shape         Param #\n",
      "================================================================\n",
      "            Linear-1              [-1, 128, 24]             120\n",
      "            Linear-2              [-1, 128, 16]             400\n",
      "            Linear-3               [-1, 128, 8]             136\n",
      "            Linear-4               [-1, 128, 1]               9\n",
      "================================================================\n",
      "Total params: 665\n",
      "Trainable params: 665\n",
      "Non-trainable params: 0\n",
      "----------------------------------------------------------------\n",
      "Input size (MB): 0.00\n",
      "Forward/backward pass size (MB): 0.05\n",
      "Params size (MB): 0.00\n",
      "Estimated Total Size (MB): 0.05\n",
      "----------------------------------------------------------------\n"
     ]
    }
   ],
   "source": [
    "summary(model, (128, 4))"
   ]
  },
  {
   "cell_type": "code",
   "execution_count": 39,
   "metadata": {},
   "outputs": [
    {
     "data": {
      "text/plain": [
       "nnModel(\n",
       "  (hidden1): Linear(in_features=4, out_features=24, bias=True)\n",
       "  (hidden2): Linear(in_features=24, out_features=16, bias=True)\n",
       "  (hidden3): Linear(in_features=16, out_features=8, bias=True)\n",
       "  (output): Linear(in_features=8, out_features=1, bias=True)\n",
       ")"
      ]
     },
     "execution_count": 39,
     "metadata": {},
     "output_type": "execute_result"
    }
   ],
   "source": [
    "model.to(device=device)"
   ]
  },
  {
   "cell_type": "code",
   "execution_count": 40,
   "metadata": {},
   "outputs": [
    {
     "name": "stdout",
     "output_type": "stream",
     "text": [
      " 540/541 batch_loss : 0.08280817\n",
      " epoch 1/150 train_loss : 0.31742111\n",
      "epoch 1/150 test_loss : 0.08858337 \n",
      "\n",
      " 540/541 batch_loss : 0.06871308\n",
      " epoch 2/150 train_loss : 0.08175839\n",
      "epoch 2/150 test_loss : 0.07656022 \n",
      "\n",
      " 540/541 batch_loss : 0.06804448\n",
      " epoch 3/150 train_loss : 0.07394415\n",
      "epoch 3/150 test_loss : 0.07117728 \n",
      "\n",
      " 540/541 batch_loss : 0.05188702\n",
      " epoch 4/150 train_loss : 0.06907862\n",
      "epoch 4/150 test_loss : 0.06786592 \n",
      "\n",
      " 540/541 batch_loss : 0.06547178\n",
      " epoch 5/150 train_loss : 0.06703955\n",
      "epoch 5/150 test_loss : 0.06652960 \n",
      "\n",
      " 540/541 batch_loss : 0.07043460\n",
      " epoch 6/150 train_loss : 0.06602032\n",
      "epoch 6/150 test_loss : 0.06553061 \n",
      "\n",
      " 540/541 batch_loss : 0.08248743\n",
      " epoch 7/150 train_loss : 0.06532957\n",
      "epoch 7/150 test_loss : 0.06497330 \n",
      "\n",
      " 540/541 batch_loss : 0.05486256\n",
      " epoch 8/150 train_loss : 0.06466173\n",
      "epoch 8/150 test_loss : 0.06428479 \n",
      "\n",
      " 540/541 batch_loss : 0.06082789\n",
      " epoch 9/150 train_loss : 0.06403147\n",
      "epoch 9/150 test_loss : 0.06372009 \n",
      "\n",
      " 540/541 batch_loss : 0.06267575\n",
      " epoch 10/150 train_loss : 0.06349257\n",
      "epoch 10/150 test_loss : 0.06324784 \n",
      "\n",
      " 540/541 batch_loss : 0.06931362\n",
      " epoch 11/150 train_loss : 0.06310048\n",
      "epoch 11/150 test_loss : 0.06286922 \n",
      "\n",
      " 540/541 batch_loss : 0.05810908\n",
      " epoch 12/150 train_loss : 0.06281958\n",
      "epoch 12/150 test_loss : 0.06260206 \n",
      "\n",
      " 540/541 batch_loss : 0.05782834\n",
      " epoch 13/150 train_loss : 0.06259879\n",
      "epoch 13/150 test_loss : 0.06253400 \n",
      "\n",
      " 540/541 batch_loss : 0.07518131\n",
      " epoch 14/150 train_loss : 0.06250011\n",
      "epoch 14/150 test_loss : 0.06246402 \n",
      "\n",
      " 540/541 batch_loss : 0.05248787\n",
      " epoch 15/150 train_loss : 0.06227759\n",
      "epoch 15/150 test_loss : 0.06206328 \n",
      "\n",
      " 540/541 batch_loss : 0.05692114\n",
      " epoch 16/150 train_loss : 0.06216657\n",
      "epoch 16/150 test_loss : 0.06215774 \n",
      "\n",
      " 540/541 batch_loss : 0.05648853\n",
      " epoch 17/150 train_loss : 0.06199030\n",
      "epoch 17/150 test_loss : 0.06171008 \n",
      "\n",
      " 540/541 batch_loss : 0.06008583\n",
      " epoch 18/150 train_loss : 0.06194379\n",
      "epoch 18/150 test_loss : 0.06171574 \n",
      "\n",
      " 540/541 batch_loss : 0.06370635\n",
      " epoch 19/150 train_loss : 0.06178425\n",
      "epoch 19/150 test_loss : 0.06154722 \n",
      "\n",
      " 540/541 batch_loss : 0.05209988\n",
      " epoch 20/150 train_loss : 0.06167502\n",
      "epoch 20/150 test_loss : 0.06141610 \n",
      "\n",
      " 540/541 batch_loss : 0.06513887\n",
      " epoch 21/150 train_loss : 0.06157786\n",
      "epoch 21/150 test_loss : 0.06156154 \n",
      "\n",
      " 540/541 batch_loss : 0.06038902\n",
      " epoch 22/150 train_loss : 0.06144461\n",
      "epoch 22/150 test_loss : 0.06168888 \n",
      "\n",
      " 540/541 batch_loss : 0.05964971\n",
      " epoch 23/150 train_loss : 0.06129427\n",
      "epoch 23/150 test_loss : 0.06125046 \n",
      "\n",
      " 540/541 batch_loss : 0.06864362\n",
      " epoch 24/150 train_loss : 0.06123310\n",
      "epoch 24/150 test_loss : 0.06104327 \n",
      "\n",
      " 540/541 batch_loss : 0.06834671\n",
      " epoch 25/150 train_loss : 0.06116435\n",
      "epoch 25/150 test_loss : 0.06117421 \n",
      "\n",
      " 540/541 batch_loss : 0.06777705\n",
      " epoch 26/150 train_loss : 0.06108747\n",
      "epoch 26/150 test_loss : 0.06117234 \n",
      "\n",
      " 540/541 batch_loss : 0.06783716\n",
      " epoch 27/150 train_loss : 0.06101874\n",
      "epoch 27/150 test_loss : 0.06097556 \n",
      "\n",
      " 540/541 batch_loss : 0.05692465\n",
      " epoch 28/150 train_loss : 0.06093832\n",
      "epoch 28/150 test_loss : 0.06059860 \n",
      "\n",
      " 540/541 batch_loss : 0.08247354\n",
      " epoch 29/150 train_loss : 0.06087128\n",
      "epoch 29/150 test_loss : 0.06063145 \n",
      "\n",
      " 540/541 batch_loss : 0.06448224\n",
      " epoch 30/150 train_loss : 0.06082208\n",
      "epoch 30/150 test_loss : 0.06075691 \n",
      "\n",
      " 540/541 batch_loss : 0.05721751\n",
      " epoch 31/150 train_loss : 0.06074803\n",
      "epoch 31/150 test_loss : 0.06059093 \n",
      "\n",
      " 540/541 batch_loss : 0.06601550\n",
      " epoch 32/150 train_loss : 0.06071311\n",
      "epoch 32/150 test_loss : 0.06041156 \n",
      "\n",
      " 540/541 batch_loss : 0.06156019\n",
      " epoch 33/150 train_loss : 0.06065246\n",
      "epoch 33/150 test_loss : 0.06063564 \n",
      "\n",
      " 540/541 batch_loss : 0.05654330\n",
      " epoch 34/150 train_loss : 0.06065662\n",
      "epoch 34/150 test_loss : 0.06079438 \n",
      "\n",
      " 540/541 batch_loss : 0.06537587\n",
      " epoch 35/150 train_loss : 0.06060546\n",
      "epoch 35/150 test_loss : 0.06057842 \n",
      "\n",
      " 540/541 batch_loss : 0.05657503\n",
      " epoch 36/150 train_loss : 0.06051003\n",
      "epoch 36/150 test_loss : 0.06035420 \n",
      "\n",
      " 540/541 batch_loss : 0.06412441\n",
      " epoch 37/150 train_loss : 0.06047376\n",
      "epoch 37/150 test_loss : 0.06045727 \n",
      "\n",
      " 540/541 batch_loss : 0.06435593\n",
      " epoch 38/150 train_loss : 0.06046049\n",
      "epoch 38/150 test_loss : 0.06015973 \n",
      "\n",
      " 540/541 batch_loss : 0.05883829\n",
      " epoch 39/150 train_loss : 0.06040424\n",
      "epoch 39/150 test_loss : 0.06037512 \n",
      "\n",
      " 540/541 batch_loss : 0.06739110\n",
      " epoch 40/150 train_loss : 0.06040242\n",
      "epoch 40/150 test_loss : 0.06011475 \n",
      "\n",
      " 540/541 batch_loss : 0.05762691\n",
      " epoch 41/150 train_loss : 0.06038707\n",
      "epoch 41/150 test_loss : 0.06031449 \n",
      "\n",
      " 540/541 batch_loss : 0.05475783\n",
      " epoch 42/150 train_loss : 0.06031064\n",
      "epoch 42/150 test_loss : 0.06059600 \n",
      "\n",
      " 540/541 batch_loss : 0.06310679\n",
      " epoch 43/150 train_loss : 0.06028862\n",
      "epoch 43/150 test_loss : 0.06042107 \n",
      "\n",
      " 540/541 batch_loss : 0.06801936\n",
      " epoch 44/150 train_loss : 0.06023999\n",
      "epoch 44/150 test_loss : 0.05999838 \n",
      "\n",
      " 540/541 batch_loss : 0.06296446\n",
      " epoch 45/150 train_loss : 0.06024489\n",
      "epoch 45/150 test_loss : 0.06011597 \n",
      "\n",
      " 540/541 batch_loss : 0.05406326\n",
      " epoch 46/150 train_loss : 0.06015581\n",
      "epoch 46/150 test_loss : 0.06001525 \n",
      "\n",
      " 540/541 batch_loss : 0.06618226\n",
      " epoch 47/150 train_loss : 0.06018104\n",
      "epoch 47/150 test_loss : 0.06015063 \n",
      "\n",
      " 540/541 batch_loss : 0.07580923\n",
      " epoch 48/150 train_loss : 0.06021014\n",
      "epoch 48/150 test_loss : 0.06029524 \n",
      "\n",
      " 540/541 batch_loss : 0.05115294\n",
      " epoch 49/150 train_loss : 0.06013784\n",
      "epoch 49/150 test_loss : 0.06010311 \n",
      "\n",
      " 540/541 batch_loss : 0.05163931\n",
      " epoch 50/150 train_loss : 0.06010164\n",
      "epoch 50/150 test_loss : 0.05980922 \n",
      "\n",
      " 540/541 batch_loss : 0.05397028\n",
      " epoch 51/150 train_loss : 0.06006630\n",
      "epoch 51/150 test_loss : 0.05990537 \n",
      "\n",
      " 540/541 batch_loss : 0.06345183\n",
      " epoch 52/150 train_loss : 0.06002403\n",
      "epoch 52/150 test_loss : 0.05981953 \n",
      "\n",
      " 540/541 batch_loss : 0.06513350\n",
      " epoch 53/150 train_loss : 0.06010037\n",
      "epoch 53/150 test_loss : 0.05999781 \n",
      "\n",
      " 540/541 batch_loss : 0.06627516\n",
      " epoch 54/150 train_loss : 0.06004143\n",
      "epoch 54/150 test_loss : 0.06011412 \n",
      "\n",
      " 540/541 batch_loss : 0.05303062\n",
      " epoch 55/150 train_loss : 0.05995633\n",
      "epoch 55/150 test_loss : 0.06006014 \n",
      "\n",
      " 540/541 batch_loss : 0.05947721\n",
      " epoch 56/150 train_loss : 0.05996859\n",
      "epoch 56/150 test_loss : 0.06007702 \n",
      "\n",
      " 540/541 batch_loss : 0.05309371\n",
      " epoch 57/150 train_loss : 0.05994216\n",
      "epoch 57/150 test_loss : 0.05973174 \n",
      "\n",
      " 540/541 batch_loss : 0.05487303\n",
      " epoch 58/150 train_loss : 0.05991025\n",
      "epoch 58/150 test_loss : 0.05974861 \n",
      "\n",
      " 540/541 batch_loss : 0.05218862\n",
      " epoch 59/150 train_loss : 0.05993410\n",
      "epoch 59/150 test_loss : 0.05984728 \n",
      "\n",
      " 540/541 batch_loss : 0.05760110\n",
      " epoch 60/150 train_loss : 0.05992294\n",
      "epoch 60/150 test_loss : 0.05962192 \n",
      "\n",
      " 540/541 batch_loss : 0.06769159\n",
      " epoch 61/150 train_loss : 0.05984754\n",
      "epoch 61/150 test_loss : 0.05988774 \n",
      "\n",
      " 540/541 batch_loss : 0.05303815\n",
      " epoch 62/150 train_loss : 0.05984197\n",
      "epoch 62/150 test_loss : 0.05966074 \n",
      "\n",
      " 540/541 batch_loss : 0.05052242\n",
      " epoch 63/150 train_loss : 0.05982839\n",
      "epoch 63/150 test_loss : 0.05962877 \n",
      "\n",
      " 540/541 batch_loss : 0.06701297\n",
      " epoch 64/150 train_loss : 0.05984336\n",
      "epoch 64/150 test_loss : 0.05979544 \n",
      "\n",
      " 540/541 batch_loss : 0.07392237\n",
      " epoch 65/150 train_loss : 0.05982327\n",
      "epoch 65/150 test_loss : 0.05966547 \n",
      "\n",
      " 540/541 batch_loss : 0.06601332\n",
      " epoch 66/150 train_loss : 0.05981384\n",
      "epoch 66/150 test_loss : 0.05957365 \n",
      "\n",
      " 540/541 batch_loss : 0.05809804\n",
      " epoch 67/150 train_loss : 0.05980321\n",
      "epoch 67/150 test_loss : 0.05989817 \n",
      "\n",
      " 540/541 batch_loss : 0.05281627\n",
      " epoch 68/150 train_loss : 0.05974063\n",
      "epoch 68/150 test_loss : 0.05995471 \n",
      "\n",
      " 540/541 batch_loss : 0.07666104\n",
      " epoch 69/150 train_loss : 0.05978803\n",
      "epoch 69/150 test_loss : 0.05962797 \n",
      "\n",
      " 540/541 batch_loss : 0.05661439\n",
      " epoch 70/150 train_loss : 0.05971364\n",
      "epoch 70/150 test_loss : 0.05971031 \n",
      "\n",
      " 540/541 batch_loss : 0.05926365\n",
      " epoch 71/150 train_loss : 0.05972707\n",
      "epoch 71/150 test_loss : 0.05949922 \n",
      "\n",
      " 540/541 batch_loss : 0.06995650\n",
      " epoch 72/150 train_loss : 0.05974980\n",
      "epoch 72/150 test_loss : 0.05949623 \n",
      "\n",
      " 540/541 batch_loss : 0.06162465\n",
      " epoch 73/150 train_loss : 0.05971111\n",
      "epoch 73/150 test_loss : 0.05952244 \n",
      "\n",
      " 540/541 batch_loss : 0.05954119\n",
      " epoch 74/150 train_loss : 0.05968045\n",
      "epoch 74/150 test_loss : 0.05944101 \n",
      "\n",
      " 540/541 batch_loss : 0.04626817\n",
      " epoch 75/150 train_loss : 0.05966150\n",
      "epoch 75/150 test_loss : 0.05955044 \n",
      "\n",
      " 540/541 batch_loss : 0.06211541\n",
      " epoch 76/150 train_loss : 0.05968110\n",
      "epoch 76/150 test_loss : 0.05951990 \n",
      "\n",
      " 540/541 batch_loss : 0.05055786\n",
      " epoch 77/150 train_loss : 0.05965937\n",
      "epoch 77/150 test_loss : 0.05974647 \n",
      "\n",
      " 540/541 batch_loss : 0.04703045\n",
      " epoch 78/150 train_loss : 0.05962339\n",
      "epoch 78/150 test_loss : 0.05983803 \n",
      "\n",
      " 540/541 batch_loss : 0.06331745\n",
      " epoch 79/150 train_loss : 0.05963252\n",
      "epoch 79/150 test_loss : 0.05977132 \n",
      "\n",
      " 540/541 batch_loss : 0.05822185\n",
      " epoch 80/150 train_loss : 0.05962663\n",
      "epoch 80/150 test_loss : 0.05960480 \n",
      "\n",
      " 540/541 batch_loss : 0.05276293\n",
      " epoch 81/150 train_loss : 0.05960564\n",
      "epoch 81/150 test_loss : 0.05954912 \n",
      "\n",
      " 540/541 batch_loss : 0.06399411\n",
      " epoch 82/150 train_loss : 0.05963997\n",
      "epoch 82/150 test_loss : 0.05946705 \n",
      "\n",
      " 540/541 batch_loss : 0.06215430\n",
      " epoch 83/150 train_loss : 0.05958627\n",
      "epoch 83/150 test_loss : 0.05956113 \n",
      "\n",
      " 540/541 batch_loss : 0.05442470\n",
      " epoch 84/150 train_loss : 0.05960529\n",
      "epoch 84/150 test_loss : 0.05967789 \n",
      "\n",
      " 540/541 batch_loss : 0.06171919\n",
      " epoch 85/150 train_loss : 0.05961729\n",
      "epoch 85/150 test_loss : 0.05940617 \n",
      "\n",
      " 540/541 batch_loss : 0.06193698\n",
      " epoch 86/150 train_loss : 0.05959008\n",
      "epoch 86/150 test_loss : 0.05949932 \n",
      "\n",
      " 540/541 batch_loss : 0.06096866\n",
      " epoch 87/150 train_loss : 0.05955032\n",
      "epoch 87/150 test_loss : 0.05946337 \n",
      "\n",
      " 540/541 batch_loss : 0.07359599\n",
      " epoch 88/150 train_loss : 0.05957716\n",
      "epoch 88/150 test_loss : 0.05929214 \n",
      "\n",
      " 540/541 batch_loss : 0.05952819\n",
      " epoch 89/150 train_loss : 0.05955885\n",
      "epoch 89/150 test_loss : 0.05962581 \n",
      "\n",
      " 540/541 batch_loss : 0.05234553\n",
      " epoch 90/150 train_loss : 0.05954500\n",
      "epoch 90/150 test_loss : 0.05949407 \n",
      "\n",
      " 540/541 batch_loss : 0.05331387\n",
      " epoch 91/150 train_loss : 0.05953525\n",
      "epoch 91/150 test_loss : 0.05935768 \n",
      "\n",
      " 540/541 batch_loss : 0.06513787\n",
      " epoch 92/150 train_loss : 0.05953883\n",
      "epoch 92/150 test_loss : 0.05946479 \n",
      "\n",
      " 540/541 batch_loss : 0.06536772\n",
      " epoch 93/150 train_loss : 0.05956904\n",
      "epoch 93/150 test_loss : 0.05932985 \n",
      "\n",
      " 540/541 batch_loss : 0.06617962\n",
      " epoch 94/150 train_loss : 0.05951413\n",
      "epoch 94/150 test_loss : 0.06004675 \n",
      "\n",
      " 540/541 batch_loss : 0.04605024\n",
      " epoch 95/150 train_loss : 0.05950575\n",
      "epoch 95/150 test_loss : 0.05964434 \n",
      "\n",
      " 540/541 batch_loss : 0.06071031\n",
      " epoch 96/150 train_loss : 0.05945617\n",
      "epoch 96/150 test_loss : 0.05960741 \n",
      "\n",
      " 540/541 batch_loss : 0.05342496\n",
      " epoch 97/150 train_loss : 0.05950953\n",
      "epoch 97/150 test_loss : 0.05968452 \n",
      "\n",
      " 540/541 batch_loss : 0.03912576\n",
      " epoch 98/150 train_loss : 0.05947012\n",
      "epoch 98/150 test_loss : 0.05929773 \n",
      "\n",
      " 540/541 batch_loss : 0.06233466\n",
      " epoch 99/150 train_loss : 0.05948805\n",
      "epoch 99/150 test_loss : 0.05989974 \n",
      "\n",
      " 540/541 batch_loss : 0.04764287\n",
      " epoch 100/150 train_loss : 0.05949859\n",
      "epoch 100/150 test_loss : 0.05923700 \n",
      "\n",
      " 540/541 batch_loss : 0.05618464\n",
      " epoch 101/150 train_loss : 0.05947911\n",
      "epoch 101/150 test_loss : 0.05948793 \n",
      "\n",
      " 540/541 batch_loss : 0.06369247\n",
      " epoch 102/150 train_loss : 0.05945995\n",
      "epoch 102/150 test_loss : 0.05953545 \n",
      "\n",
      " 540/541 batch_loss : 0.05157418\n",
      " epoch 103/150 train_loss : 0.05947623\n",
      "epoch 103/150 test_loss : 0.05921726 \n",
      "\n",
      " 540/541 batch_loss : 0.06483150\n",
      " epoch 104/150 train_loss : 0.05947397\n",
      "epoch 104/150 test_loss : 0.05964011 \n",
      "\n",
      " 540/541 batch_loss : 0.05415700\n",
      " epoch 105/150 train_loss : 0.05946263\n",
      "epoch 105/150 test_loss : 0.05918685 \n",
      "\n",
      " 540/541 batch_loss : 0.06351876\n",
      " epoch 106/150 train_loss : 0.05949695\n",
      "epoch 106/150 test_loss : 0.05928830 \n",
      "\n",
      " 540/541 batch_loss : 0.05238115\n",
      " epoch 107/150 train_loss : 0.05940060\n",
      "epoch 107/150 test_loss : 0.05936944 \n",
      "\n",
      " 540/541 batch_loss : 0.04478110\n",
      " epoch 108/150 train_loss : 0.05939151\n",
      "epoch 108/150 test_loss : 0.05945023 \n",
      "\n",
      " 540/541 batch_loss : 0.06496453\n",
      " epoch 109/150 train_loss : 0.05944858\n",
      "epoch 109/150 test_loss : 0.05928974 \n",
      "\n",
      " 540/541 batch_loss : 0.06618057\n",
      " epoch 110/150 train_loss : 0.05943660\n",
      "epoch 110/150 test_loss : 0.05931213 \n",
      "\n",
      " 540/541 batch_loss : 0.06831282\n",
      " epoch 111/150 train_loss : 0.05938061\n",
      "epoch 111/150 test_loss : 0.05944756 \n",
      "\n",
      " 540/541 batch_loss : 0.04919431\n",
      " epoch 112/150 train_loss : 0.05940783\n",
      "epoch 112/150 test_loss : 0.05927847 \n",
      "\n",
      " 540/541 batch_loss : 0.06060093\n",
      " epoch 113/150 train_loss : 0.05937571\n",
      "epoch 113/150 test_loss : 0.05929235 \n",
      "\n",
      " 540/541 batch_loss : 0.06073014\n",
      " epoch 114/150 train_loss : 0.05936739\n",
      "epoch 114/150 test_loss : 0.05913817 \n",
      "\n",
      " 540/541 batch_loss : 0.06611415\n",
      " epoch 115/150 train_loss : 0.05937095\n",
      "epoch 115/150 test_loss : 0.05911857 \n",
      "\n",
      " 540/541 batch_loss : 0.07235373\n",
      " epoch 116/150 train_loss : 0.05941863\n",
      "epoch 116/150 test_loss : 0.05929503 \n",
      "\n",
      " 540/541 batch_loss : 0.04348332\n",
      " epoch 117/150 train_loss : 0.05934078\n",
      "epoch 117/150 test_loss : 0.05965296 \n",
      "\n",
      " 540/541 batch_loss : 0.06606309\n",
      " epoch 118/150 train_loss : 0.05936986\n",
      "epoch 118/150 test_loss : 0.05910929 \n",
      "\n",
      " 540/541 batch_loss : 0.03631534\n",
      " epoch 119/150 train_loss : 0.05932618\n",
      "epoch 119/150 test_loss : 0.05909370 \n",
      "\n",
      " 540/541 batch_loss : 0.06287136\n",
      " epoch 120/150 train_loss : 0.05931270\n",
      "epoch 120/150 test_loss : 0.05915388 \n",
      "\n",
      " 540/541 batch_loss : 0.05369472\n",
      " epoch 121/150 train_loss : 0.05930950\n",
      "epoch 121/150 test_loss : 0.05944641 \n",
      "\n",
      " 540/541 batch_loss : 0.05275550\n",
      " epoch 122/150 train_loss : 0.05930170\n",
      "epoch 122/150 test_loss : 0.05920137 \n",
      "\n",
      " 540/541 batch_loss : 0.06222284\n",
      " epoch 123/150 train_loss : 0.05931284\n",
      "epoch 123/150 test_loss : 0.05915845 \n",
      "\n",
      " 540/541 batch_loss : 0.05093629\n",
      " epoch 124/150 train_loss : 0.05927482\n",
      "epoch 124/150 test_loss : 0.05938366 \n",
      "\n",
      " 540/541 batch_loss : 0.05832946\n",
      " epoch 125/150 train_loss : 0.05927299\n",
      "epoch 125/150 test_loss : 0.05908486 \n",
      "\n",
      " 540/541 batch_loss : 0.06174734\n",
      " epoch 126/150 train_loss : 0.05931279\n",
      "epoch 126/150 test_loss : 0.05925062 \n",
      "\n",
      " 540/541 batch_loss : 0.07100692\n",
      " epoch 127/150 train_loss : 0.05926951\n",
      "epoch 127/150 test_loss : 0.05954904 \n",
      "\n",
      " 540/541 batch_loss : 0.05307687\n",
      " epoch 128/150 train_loss : 0.05923071\n",
      "epoch 128/150 test_loss : 0.05914871 \n",
      "\n",
      " 540/541 batch_loss : 0.06177025\n",
      " epoch 129/150 train_loss : 0.05928191\n",
      "epoch 129/150 test_loss : 0.05917451 \n",
      "\n",
      " 540/541 batch_loss : 0.06229985\n",
      " epoch 130/150 train_loss : 0.05923051\n",
      "epoch 130/150 test_loss : 0.05922576 \n",
      "\n",
      " 540/541 batch_loss : 0.05225705\n",
      " epoch 131/150 train_loss : 0.05923783\n",
      "epoch 131/150 test_loss : 0.05922344 \n",
      "\n",
      " 540/541 batch_loss : 0.06471621\n",
      " epoch 132/150 train_loss : 0.05924647\n",
      "epoch 132/150 test_loss : 0.05896831 \n",
      "\n",
      " 540/541 batch_loss : 0.05292189\n",
      " epoch 133/150 train_loss : 0.05922289\n",
      "epoch 133/150 test_loss : 0.05916297 \n",
      "\n",
      " 540/541 batch_loss : 0.06046456\n",
      " epoch 134/150 train_loss : 0.05923552\n",
      "epoch 134/150 test_loss : 0.05907511 \n",
      "\n",
      " 540/541 batch_loss : 0.05793198\n",
      " epoch 135/150 train_loss : 0.05922425\n",
      "epoch 135/150 test_loss : 0.05913088 \n",
      "\n",
      " 540/541 batch_loss : 0.06048489\n",
      " epoch 136/150 train_loss : 0.05921150\n",
      "epoch 136/150 test_loss : 0.05905227 \n",
      "\n",
      " 540/541 batch_loss : 0.07099682\n",
      " epoch 137/150 train_loss : 0.05924934\n",
      "epoch 137/150 test_loss : 0.05893911 \n",
      "\n",
      " 540/541 batch_loss : 0.05862381\n",
      " epoch 138/150 train_loss : 0.05917872\n",
      "epoch 138/150 test_loss : 0.05898762 \n",
      "\n",
      " 540/541 batch_loss : 0.05407046\n",
      " epoch 139/150 train_loss : 0.05918056\n",
      "epoch 139/150 test_loss : 0.05923981 \n",
      "\n",
      " 540/541 batch_loss : 0.05187248\n",
      " epoch 140/150 train_loss : 0.05917482\n",
      "epoch 140/150 test_loss : 0.05907479 \n",
      "\n",
      " 540/541 batch_loss : 0.07070626\n",
      " epoch 141/150 train_loss : 0.05917930\n",
      "epoch 141/150 test_loss : 0.05928233 \n",
      "\n",
      " 540/541 batch_loss : 0.06666178\n",
      " epoch 142/150 train_loss : 0.05921544\n",
      "epoch 142/150 test_loss : 0.05899313 \n",
      "\n",
      " 540/541 batch_loss : 0.06542003\n",
      " epoch 143/150 train_loss : 0.05915172\n",
      "epoch 143/150 test_loss : 0.05896892 \n",
      "\n",
      " 540/541 batch_loss : 0.07174420\n",
      " epoch 144/150 train_loss : 0.05919680\n",
      "epoch 144/150 test_loss : 0.05912159 \n",
      "\n",
      " 540/541 batch_loss : 0.06215774\n",
      " epoch 145/150 train_loss : 0.05914200\n",
      "epoch 145/150 test_loss : 0.05886000 \n",
      "\n",
      " 540/541 batch_loss : 0.05488792\n",
      " epoch 146/150 train_loss : 0.05913943\n",
      "epoch 146/150 test_loss : 0.05907505 \n",
      "\n",
      " 540/541 batch_loss : 0.06085732\n",
      " epoch 147/150 train_loss : 0.05912401\n",
      "epoch 147/150 test_loss : 0.05891282 \n",
      "\n",
      " 540/541 batch_loss : 0.05799365\n",
      " epoch 148/150 train_loss : 0.05914796\n",
      "epoch 148/150 test_loss : 0.05893629 \n",
      "\n",
      " 540/541 batch_loss : 0.07090110\n",
      " epoch 149/150 train_loss : 0.05912286\n",
      "epoch 149/150 test_loss : 0.05897000 \n",
      "\n",
      " 540/541 batch_loss : 0.06929135\n",
      " epoch 150/150 train_loss : 0.05912070\n",
      "epoch 150/150 test_loss : 0.05907327 \n",
      "\n"
     ]
    }
   ],
   "source": [
    "optimizer = optim.Adam(model.parameters(), lr=0.001)\n",
    "\n",
    "# loss function\n",
    "loss_fn = nn.MSELoss()\n",
    "\n",
    "# training\n",
    "train_loss_list=[]\n",
    "test_loss_list=[]\n",
    "\n",
    "n = len(train_dataloader)\n",
    "\n",
    "\n",
    "\n",
    "epoch = 150\n",
    "for i in range(epoch):\n",
    "    model.train()\n",
    "    train_loss = 0\n",
    "\n",
    "    #load data\n",
    "    for idx, data in enumerate(train_dataloader):\n",
    "        x, y = data\n",
    "        x = x.to(device)\n",
    "        y = y.to(device)\n",
    "\n",
    "        optimizer.zero_grad()\n",
    "\n",
    "        #forward propagation\n",
    "        y_pred = model(x)\n",
    "        loss = loss_fn(y_pred,y)\n",
    "        \n",
    "        #backpropagation\n",
    "        loss.backward()\n",
    "        optimizer.step()\n",
    "\n",
    "        train_loss += loss.mean()\n",
    "        print('\\r {}/{} batch_loss : {:.8f}'.format(idx, n, loss.mean()), end=\"\")\n",
    "    \n",
    "    train_loss /= n\n",
    "    train_loss_list.append(train_loss.item())\n",
    "\n",
    "    print('\\n epoch {}/{} train_loss : {:.8f}'.format(i+1, epoch, train_loss))\n",
    "\n",
    "    with torch.no_grad():\n",
    "        model.eval()\n",
    "        test_loss = 0\n",
    "        for x, y in test_dataloader:\n",
    "            x = x.to(device)\n",
    "            y = y.to(device)\n",
    "            \n",
    "            y_pred = model(x)\n",
    "            loss = loss_fn(y_pred,y)\n",
    "            \n",
    "            test_loss += loss.mean()\n",
    "\n",
    "        test_loss /= len(test_dataloader)\n",
    "        test_loss_list.append(test_loss.item())\n",
    "\n",
    "        print('epoch {}/{} test_loss : {:.8f} \\n'.format(i+1, epoch, test_loss))\n",
    "\n",
    "        if min(test_loss_list) >= test_loss.item():\n",
    "            torch.save(model.state_dict(), './SpaceValueModel/best_svmodel_sdict.pt')"
   ]
  },
  {
   "cell_type": "code",
   "execution_count": 42,
   "metadata": {},
   "outputs": [
    {
     "data": {
      "text/plain": [
       "[<matplotlib.lines.Line2D at 0x298b284d0>]"
      ]
     },
     "execution_count": 42,
     "metadata": {},
     "output_type": "execute_result"
    },
    {
     "data": {
      "image/png": "[encoded data removed]",
      "text/plain": [
       "<Figure size 640x480 with 1 Axes>"
      ]
     },
     "metadata": {},
     "output_type": "display_data"
    }
   ],
   "source": [
    "plt.plot(train_loss_list)\n",
    "plt.plot(test_loss_list)"
   ]
  },
  {
   "cell_type": "code",
   "execution_count": 43,
   "metadata": {},
   "outputs": [
    {
     "data": {
      "text/plain": [
       "nnModel(\n",
       "  (hidden1): Linear(in_features=4, out_features=24, bias=True)\n",
       "  (hidden2): Linear(in_features=24, out_features=16, bias=True)\n",
       "  (hidden3): Linear(in_features=16, out_features=8, bias=True)\n",
       "  (output): Linear(in_features=8, out_features=1, bias=True)\n",
       ")"
      ]
     },
     "execution_count": 43,
     "metadata": {},
     "output_type": "execute_result"
    }
   ],
   "source": [
    "model.to('cpu')"
   ]
  },
  {
   "cell_type": "code",
   "execution_count": 44,
   "metadata": {},
   "outputs": [],
   "source": [
    "nn_model = nnModel()"
   ]
  },
  {
   "cell_type": "code",
   "execution_count": 45,
   "metadata": {},
   "outputs": [
    {
     "data": {
      "text/plain": [
       "<All keys matched successfully>"
      ]
     },
     "execution_count": 45,
     "metadata": {},
     "output_type": "execute_result"
    }
   ],
   "source": [
    "nn_model.load_state_dict(torch.load('./SpaceValueModel/best_svmodel_sdict.pt'))"
   ]
  },
  {
   "cell_type": "code",
   "execution_count": 46,
   "metadata": {},
   "outputs": [
    {
     "data": {
      "text/plain": [
       "(0.0, 1.0)"
      ]
     },
     "execution_count": 46,
     "metadata": {},
     "output_type": "execute_result"
    },
    {
     "data": {
      "image/png": "[encoded data removed]",
      "text/plain": [
       "<Figure size 640x480 with 1 Axes>"
      ]
     },
     "metadata": {},
     "output_type": "display_data"
    }
   ],
   "source": [
    "plt.scatter(test_dataset.dataset.y[0:1000], nn_model(torch.Tensor(test_dataset.dataset.x[0:1000])).detach().numpy())\n",
    "plt.xlim((0, 1))\n",
    "plt.ylim((0, 1))\n"
   ]
  },
  {
   "cell_type": "code",
   "execution_count": 49,
   "metadata": {},
   "outputs": [
    {
     "data": {
      "text/plain": [
       "<matplotlib.collections.PathCollection at 0x176f9ef10>"
      ]
     },
     "execution_count": 49,
     "metadata": {},
     "output_type": "execute_result"
    },
    {
     "data": {
      "image/png": "[encoded data removed]",
      "text/plain": [
       "<Figure size 1040x680 with 1 Axes>"
      ]
     },
     "metadata": {},
     "output_type": "display_data"
    }
   ],
   "source": [
    "x, y = np.mgrid[0:104:5, 0:68:5]\n",
    "x = x.reshape(-1, 1) /104\n",
    "y = y.reshape(-1, 1) /68\n",
    "ball_x = 80 * np.ones_like(x) / 104\n",
    "ball_y = 10 * np.ones_like(y) / 68\n",
    "\n",
    "input = torch.FloatTensor(np.concatenate([ball_x, ball_y, x, y], axis=1))\n",
    "output = model(input)\n",
    "output = output.detach().numpy()\n",
    "fig, ax = draw_pitch('white', 'black')\n",
    "ax.contourf(x.reshape(21, 14)*108, y.reshape(21, 14)*68, output.reshape(21, 14), alpha=0.8)\n",
    "ax.scatter(ball_x*104, ball_y*68, c='red')"
   ]
  },
  {
   "cell_type": "code",
   "execution_count": 86,
   "metadata": {},
   "outputs": [
    {
     "data": {
      "text/plain": [
       "<matplotlib.collections.PathCollection at 0x177296f50>"
      ]
     },
     "execution_count": 86,
     "metadata": {},
     "output_type": "execute_result"
    },
    {
     "data": {
      "image/png": "[encoded data removed]",
      "text/plain": [
       "<Figure size 1040x680 with 1 Axes>"
      ]
     },
     "metadata": {},
     "output_type": "display_data"
    }
   ],
   "source": [
    "x, y = np.mgrid[0:104:5, 0:68:5]\n",
    "x = x.reshape(-1, 1) /104\n",
    "y = y.reshape(-1, 1) /68\n",
    "ball_x = 50 * np.ones_like(x) / 104\n",
    "ball_y = 30 * np.ones_like(y) / 68\n",
    "\n",
    "input = torch.FloatTensor(np.concatenate([ball_x, ball_y, x, y], axis=1))\n",
    "output = model(input)\n",
    "output = output.detach().numpy()\n",
    "fig, ax = draw_pitch('white', 'black')\n",
    "ax.contourf(x.reshape(21, 14)*104, y.reshape(21, 14)*68, output.reshape(21, 14), alpha=0.8)\n",
    "ax.scatter(ball_x*104, ball_y*68, c='red')"
   ]
  },
  {
   "cell_type": "code",
   "execution_count": 155,
   "metadata": {},
   "outputs": [],
   "source": [
    "x, y = np.mgrid[0:104:2, 0:68:2]\n",
    "x = x.reshape(-1, 1)\n",
    "y = y.reshape(-1, 1)\n",
    "\n",
    "def distance_from_goal(x, y):\n",
    "    dist = np.sqrt((104-x)**2 + (34-y)**2)\n",
    "    max_v = np.max(dist)\n",
    "    return (max_v - dist+100)/ (max_v+100)\n",
    "\n",
    "z = distance_from_goal(x, y)\n"
   ]
  },
  {
   "cell_type": "code",
   "execution_count": 156,
   "metadata": {},
   "outputs": [
    {
     "data": {
      "text/plain": [
       "(1768, 1)"
      ]
     },
     "execution_count": 156,
     "metadata": {},
     "output_type": "execute_result"
    }
   ],
   "source": [
    "z.shape"
   ]
  },
  {
   "cell_type": "code",
   "execution_count": 157,
   "metadata": {},
   "outputs": [
    {
     "data": {
      "text/plain": [
       "<matplotlib.collections.PathCollection at 0x29ec51f50>"
      ]
     },
     "execution_count": 157,
     "metadata": {},
     "output_type": "execute_result"
    },
    {
     "data": {
      "image/png": "[encoded data removed]",
      "text/plain": [
       "<Figure size 1040x680 with 1 Axes>"
      ]
     },
     "metadata": {},
     "output_type": "display_data"
    }
   ],
   "source": [
    "fig, ax = draw_pitch('white', 'black')\n",
    "ax.contourf(x.reshape(52, 34), y.reshape(52, 34), z.reshape(52, 34), alpha=0.8)\n",
    "ax.scatter(ball_x*104, ball_y*68, c='red')"
   ]
  },
  {
   "cell_type": "code",
   "execution_count": 158,
   "metadata": {},
   "outputs": [
    {
     "data": {
      "text/plain": [
       "<matplotlib.collections.PathCollection at 0x29a6a6a10>"
      ]
     },
     "execution_count": 158,
     "metadata": {},
     "output_type": "execute_result"
    },
    {
     "data": {
      "image/png": "[encoded data removed]",
      "text/plain": [
       "<Figure size 1040x680 with 1 Axes>"
      ]
     },
     "metadata": {},
     "output_type": "display_data"
    }
   ],
   "source": [
    "ball_x = 40\n",
    "ball_y = 40\n",
    "\n",
    "#################################\n",
    "x, y = np.mgrid[0:104:5, 0:68:5]\n",
    "x = x.reshape(-1, 1)\n",
    "y = y.reshape(-1, 1)\n",
    "z = distance_from_goal(x, y)\n",
    "x = x/104\n",
    "y = y/68 \n",
    "ball_x = ball_x * np.ones_like(x) / 104\n",
    "ball_y = ball_y * np.ones_like(y) / 68\n",
    "\n",
    "input = torch.FloatTensor(np.concatenate([ball_x, ball_y, x, y], axis=1))\n",
    "output = model(input)\n",
    "output = output.detach().numpy()\n",
    "output += z\n",
    "output = (output - min(output))/ (max(output) - min(output))\n",
    "fig, ax = draw_pitch('white', 'black')\n",
    "ax.contourf(x.reshape(21, 14)*104, y.reshape(21, 14)*68, output.reshape(21, 14), alpha=0.8)\n",
    "ax.scatter(ball_x*104, ball_y*68, c='red')"
   ]
  },
  {
   "cell_type": "code",
   "execution_count": null,
   "metadata": {},
   "outputs": [],
   "source": []
  }
 ],
 "metadata": {
  "kernelspec": {
   "display_name": "pytorch",
   "language": "python",
   "name": "python3"
  },
  "language_info": {
   "codemirror_mode": {
    "name": "ipython",
    "version": 3
   },
   "file_extension": ".py",
   "mimetype": "text/x-python",
   "name": "python",
   "nbconvert_exporter": "python",
   "pygments_lexer": "ipython3",
   "version": "3.11.4"
  },
  "orig_nbformat": 4,
  "vscode": {
   "interpreter": {
    "hash": "007922a2b4b06f8309f472d462d6e9950bbc911ef223bac712492de68a15c418"
   }
  }
 },
 "nbformat": 4,
 "nbformat_minor": 2
}
